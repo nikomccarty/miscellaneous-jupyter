{
 "cells": [
  {
   "cell_type": "markdown",
   "metadata": {},
   "source": [
    "# Analyzing Hacker News Posts\n",
    "\n",
    "This is an exploratory Jupyter notebook that aims to pull insights from posts submitted to a technology site called [Hacker News](https://news.ycombinator.com/). The aim is to understand the optimal time to post two types of content: `Ask HN` and `Show HN`. We will determine optimal times by finding the average number of comments for each type of post at each hour in a 24-hour cycle.\n",
    "\n",
    "\n",
    "<img src=\"https://zox.news/wp-content/uploads/2021/04/hn-dirt-big.png\" alt=\"Kitten\" title=\"Hacker news\" \n",
    "     width='50%' />\n",
    "\n",
    "\n",
    "## Overview\n",
    "\n",
    "[Hacker News](https://news.ycombinator.com/) is a site started by the startup incubator, [Y Combinator](https://www.ycombinator.com/), where user-submitted stories (known as \"posts\") receive votes and comments, similar to Reddit.\n",
    "\n",
    "\n",
    "## Dataset Information\n",
    "\n",
    "The original dataset can be found [here](https://www.kaggle.com/hacker-news/hacker-news-posts). For this analysis, the data was reduced from almost *300,000 rows* to approximately *20,000 rows*. We did this by eliminating submissions that didn't receive any comments and then randomly sampling from the remaining submissions. The `7` columns in the dataset are described below:\n",
    "\n",
    "- `id`:- Unique identifier from Hacker News for the post\n",
    "\n",
    "- `title`:- Title of the post\n",
    "\n",
    "- `url`:- The URL that the posts links to, if the post has a URL\n",
    "\n",
    "- `num_points`:- Number of points the post acquired (calculated as *total upvotes - total downvotes*)\n",
    "\n",
    "- `num_comments`:- Number of comments on the post\n",
    "\n",
    "- `author`:- Username of the person who submitted the post\n",
    "\n",
    "- `created_at`:- Date and time of the post's submission\n",
    "\n",
    "## Categories of Interest\n",
    "\n",
    "We're specifically interested in posts with titles that begin with either Ask HN or Show HN. \n",
    "\n",
    "- Users submit `Ask HN` posts to ask the Hacker News community a specific question, for example:\n",
    "\n",
    "```\n",
    "Ask HN: How to improve my personal website?\n",
    "Ask HN: Am I the only one outraged by Twitter shutting down share counts?\n",
    "\n",
    "```\n",
    "- Users submit `Show HN` posts to show the Hacker News community a project, product, or just something interesting. Below are a few examples:\n",
    "\n",
    "```\n",
    "Show HN: Wio Link  ESP8266 Based Web of Things Hardware Development Platform'\n",
    "Show HN: Something pointless I made\n",
    "\n",
    "```\n",
    "\n",
    "## Importing Libraries\n",
    "As we progress in this project, we will need to read files, work with dates and times, and create visualizations. For these three aims, we import python's `reader` and `datetime` modules, and make charts using `seaborn`.\n",
    "\n",
    "Notably, this notebook doesn't use the `Pandas` library. That is because I'm trying to learn how to work with data using simple for loops and base Python libraries, prior to easing the workload with `Pandas`."
   ]
  },
  {
   "cell_type": "code",
   "execution_count": 131,
   "metadata": {},
   "outputs": [],
   "source": [
    "from csv import reader\n",
    "import numpy as np\n",
    "import datetime as dt\n",
    "import matplotlib.pyplot as plt\n",
    "import seaborn as sns"
   ]
  },
  {
   "cell_type": "code",
   "execution_count": 24,
   "metadata": {},
   "outputs": [],
   "source": [
    "def extract_data(filepath):\n",
    "    \"\"\"Open a .csv file and convert it to a list of lists. \n",
    "\n",
    "    Keyword arguments:\n",
    "    filepath -- Path to a .csv file.\n",
    "\n",
    "    Output(s):\n",
    "    [0] -- Header row of the .csv file, as a list. \n",
    "    [1] -- Rows of the .csv file, as a list of lists.\n",
    "    \"\"\"\n",
    "\n",
    "    opened_file = open(filepath)\n",
    "    read_file = reader(opened_file)\n",
    "    result = list(read_file)\n",
    "    return result[0], result[1:]"
   ]
  },
  {
   "cell_type": "code",
   "execution_count": 20,
   "metadata": {},
   "outputs": [],
   "source": [
    "headers, hn = extract_data('./hacker_news.csv')"
   ]
  },
  {
   "cell_type": "code",
   "execution_count": 21,
   "metadata": {},
   "outputs": [
    {
     "name": "stdout",
     "output_type": "stream",
     "text": [
      "['id', 'title', 'url', 'num_points', 'num_comments', 'author', 'created_at']\n",
      "[['12224879', 'Interactive Dynamic Video', 'http://www.interactivedynamicvideo.com/', '386', '52', 'ne0phyte', '8/4/2016 11:52'], ['10975351', 'How to Use Open Source and Shut the Fuck Up at the Same Time', 'http://hueniverse.com/2016/01/26/how-to-use-open-source-and-shut-the-fuck-up-at-the-same-time/', '39', '10', 'josep2', '1/26/2016 19:30'], ['11964716', \"Florida DJs May Face Felony for April Fools' Water Joke\", 'http://www.thewire.com/entertainment/2013/04/florida-djs-april-fools-water-joke/63798/', '2', '1', 'vezycash', '6/23/2016 22:20'], ['11919867', 'Technology ventures: From Idea to Enterprise', 'https://www.amazon.com/Technology-Ventures-Enterprise-Thomas-Byers/dp/0073523429', '3', '1', 'hswarna', '6/17/2016 0:01'], ['10301696', 'Note by Note: The Making of Steinway L1037 (2007)', 'http://www.nytimes.com/2007/11/07/movies/07stein.html?_r=0', '8', '2', 'walterbell', '9/30/2015 4:12']]\n"
     ]
    }
   ],
   "source": [
    "print(headers)\n",
    "\n",
    "print(hn[:5])"
   ]
  },
  {
   "cell_type": "markdown",
   "metadata": {},
   "source": [
    "We've now imported our .csv file and saved the data (excluding headers) to the `hn` variable. We're now ready to begin our analysis.\n",
    "\n",
    "First, we'll split the data into `Ask HN` and `Show HN` posts.\n",
    "\n",
    "It's generally a bad idea to iterate through datasets, but since we're not using `Pandas` in this notebook, there are limited options."
   ]
  },
  {
   "cell_type": "markdown",
   "metadata": {},
   "source": [
    "#### Filter Posts for 'Ask' or 'Show HN'"
   ]
  },
  {
   "cell_type": "code",
   "execution_count": 23,
   "metadata": {},
   "outputs": [],
   "source": [
    "# Initiate empty lists for each type of post\n",
    "ask_posts = []\n",
    "show_posts = []\n",
    "other_posts = []"
   ]
  },
  {
   "cell_type": "code",
   "execution_count": 25,
   "metadata": {},
   "outputs": [],
   "source": [
    "def sort_data(list_of_posts):\n",
    "    \"\"\"Categorize a list of lists into Ask, Show, and Other posts.  \n",
    "\n",
    "    Keyword arguments:\n",
    "    list_of_posts -- A list of lists containing only data rows, and not headers. \n",
    "\n",
    "    Output(s): None\n",
    "    \"\"\"\n",
    "    for row in list_of_posts:\n",
    "        title = row[1]\n",
    "        if title.lower().startswith('ask hn'):\n",
    "            ask_posts.append(row)\n",
    "        elif title.lower().startswith('show hn'):\n",
    "            show_posts.append(row)\n",
    "        else:\n",
    "            other_posts.append(row)"
   ]
  },
  {
   "cell_type": "code",
   "execution_count": 26,
   "metadata": {},
   "outputs": [],
   "source": [
    "sort_data(hn)"
   ]
  },
  {
   "cell_type": "code",
   "execution_count": 27,
   "metadata": {},
   "outputs": [
    {
     "name": "stdout",
     "output_type": "stream",
     "text": [
      "There are 1744 ask posts, 1162 show posts, and 17194 other posts.\n"
     ]
    }
   ],
   "source": [
    "print(f\"There are {len(ask_posts)} ask posts, {len(show_posts)} show posts, and {len(other_posts)} other posts.\")"
   ]
  },
  {
   "cell_type": "markdown",
   "metadata": {},
   "source": [
    "#### Identify the total number of comments in `Ask HN` and `Show HN` posts."
   ]
  },
  {
   "cell_type": "code",
   "execution_count": 30,
   "metadata": {},
   "outputs": [],
   "source": [
    "def count_comments(posts_list):\n",
    "    \"\"\"Count the number of comments for each post.\n",
    "\n",
    "    Keyword arguments:\n",
    "    posts_list -- A list of lists containing only data rows, and not headers.\n",
    "\n",
    "    Output(s):\n",
    "    total_comments -- An integer representing the total number of comments.\n",
    "    \"\"\"\n",
    "    total_comments = 0\n",
    "    for row in posts_list:\n",
    "        num_comments = int(row[4])\n",
    "        total_comments += num_comments\n",
    "    return total_comments"
   ]
  },
  {
   "cell_type": "code",
   "execution_count": 31,
   "metadata": {},
   "outputs": [],
   "source": [
    "total_ask_comments = count_comments(ask_posts)\n",
    "total_show_comments = count_comments(show_posts)"
   ]
  },
  {
   "cell_type": "code",
   "execution_count": 32,
   "metadata": {},
   "outputs": [
    {
     "name": "stdout",
     "output_type": "stream",
     "text": [
      "Total number of comments for Ask HN posts: 24483\n",
      "Average number of comments for Ask HN posts: 14.038417431192661\n",
      "Total number of comments for Show HN posts: 11988\n",
      "Average number of comments for Show HN posts: 10.31669535283993\n"
     ]
    }
   ],
   "source": [
    "print(f\"Total number of comments for Ask HN posts: {total_ask_comments}\")\n",
    "print(f\"Average number of comments for Ask HN posts: {total_ask_comments / len(ask_posts)}\")\n",
    "\n",
    "print(f\"Total number of comments for Show HN posts: {total_show_comments}\")\n",
    "print(f\"Average number of comments for Show HN posts: {total_show_comments / len(show_posts)}\")\n"
   ]
  },
  {
   "cell_type": "markdown",
   "metadata": {},
   "source": [
    "It appears that 'Ask' comments receive more comments on average."
   ]
  },
  {
   "cell_type": "markdown",
   "metadata": {},
   "source": [
    "#### What post time is optimal to maximize comments on `Ask HN` and `Show HN` posts?"
   ]
  },
  {
   "cell_type": "code",
   "execution_count": 34,
   "metadata": {},
   "outputs": [],
   "source": [
    "def count_comments(posts_list):\n",
    "    \"\"\"Distill the list of lists into a two-column list of lists.\n",
    "\n",
    "    Keyword arguments:\n",
    "    posts_list -- A list of lists containing only data rows, and not headers.\n",
    "\n",
    "    Output(s):\n",
    "    result_list -- A list of lists containing the number of comments, and time of posting, for each post.\n",
    "    \"\"\"\n",
    "    result_list = []\n",
    "    for row in posts_list:\n",
    "        created_at = row[6]\n",
    "        num_comments = int(row[4])\n",
    "        result_list.append([created_at, num_comments])\n",
    "        \n",
    "    return result_list"
   ]
  },
  {
   "cell_type": "code",
   "execution_count": 35,
   "metadata": {},
   "outputs": [],
   "source": [
    "def counts_by_hour(result_list):\n",
    "    \"\"\"Count the average number of comments for posts at each time in a 24-hour cycle, by building frequency tables.\n",
    "\n",
    "    Keyword arguments:\n",
    "    result_list -- A list of lists containing only data rows, and not headers.\n",
    "\n",
    "    Output(s):\n",
    "    0. counts_by_hour -- A dictionary containing all times in a 24-hour period, as well as the number of posts for each hour.\n",
    "    1. comments_by_hour -- A dictionary containing all times in a 24-hour period, as well as the average number of comments per post.\n",
    "    \"\"\"\n",
    "    counts_by_hour = {}\n",
    "    comments_by_hour = {}\n",
    "\n",
    "    for row in result_list:\n",
    "        time = row[0]\n",
    "        num_comments = row[1]\n",
    "        date, hour = time.split()\n",
    "        hour_dt = dt.datetime.strptime(hour, '%H:%M')\n",
    "        final_hour = hour_dt.strftime('%H')\n",
    "        \n",
    "        if final_hour not in counts_by_hour:\n",
    "            counts_by_hour[final_hour] = 1\n",
    "            comments_by_hour[final_hour] = num_comments\n",
    "        else:\n",
    "            counts_by_hour[final_hour] += 1\n",
    "            comments_by_hour[final_hour] += num_comments\n",
    "\n",
    "    return counts_by_hour, comments_by_hour"
   ]
  },
  {
   "cell_type": "markdown",
   "metadata": {},
   "source": [
    "Now let's take the `Ask HN` and `Show HN` datasets, and consolidate them so they each have just two columns: `created_at` and `num_comments`"
   ]
  },
  {
   "cell_type": "code",
   "execution_count": 36,
   "metadata": {},
   "outputs": [],
   "source": [
    "ask_hn_small = count_comments(ask_posts)\n",
    "show_hn_small = count_comments(show_posts)"
   ]
  },
  {
   "cell_type": "code",
   "execution_count": 40,
   "metadata": {},
   "outputs": [
    {
     "name": "stdout",
     "output_type": "stream",
     "text": [
      "['8/16/2016 9:55', 6]\n",
      "['11/25/2015 14:03', 22]\n"
     ]
    }
   ],
   "source": [
    "print(ask_hn_small[0])\n",
    "print(show_hn_small[0])"
   ]
  },
  {
   "cell_type": "markdown",
   "metadata": {},
   "source": [
    "Now we can go through the `Ask HN` and `Show HN` datasets and pull out the number of posts made, per hour, and the average number of comments on those posts, for each year."
   ]
  },
  {
   "cell_type": "code",
   "execution_count": 45,
   "metadata": {},
   "outputs": [],
   "source": [
    "ask_hn_counts, ask_hn_comments = counts_by_hour(ask_hn_small)\n",
    "show_hn_counts, show_hn_comments = counts_by_hour(show_hn_small)"
   ]
  },
  {
   "cell_type": "markdown",
   "metadata": {},
   "source": [
    "Let's try to answer our question. Namely, what times have a high amount of activity for both posts and the number of comments on posts, for both `Ask HN` and `Show HN` content?"
   ]
  },
  {
   "cell_type": "code",
   "execution_count": 47,
   "metadata": {},
   "outputs": [
    {
     "name": "stdout",
     "output_type": "stream",
     "text": [
      "Ask HN posts per hour.\n",
      "{'09': 45, '13': 85, '10': 59, '14': 107, '16': 108, '23': 68, '12': 73, '17': 100, '15': 116, '21': 109, '20': 80, '02': 58, '18': 109, '03': 54, '05': 46, '19': 110, '01': 60, '22': 71, '08': 48, '04': 47, '00': 55, '06': 44, '07': 34, '11': 58}\n",
      "Show HN posts per hour.\n",
      "{'14': 86, '22': 46, '18': 61, '07': 26, '20': 60, '05': 19, '16': 93, '19': 55, '15': 78, '03': 27, '17': 93, '06': 16, '02': 30, '13': 99, '08': 34, '21': 47, '04': 26, '11': 44, '12': 61, '23': 36, '09': 30, '01': 28, '10': 36, '00': 31}\n"
     ]
    }
   ],
   "source": [
    "print(\"Ask HN posts per hour.\")\n",
    "print(ask_hn_counts)\n",
    "print(\"Show HN posts per hour.\")\n",
    "print(show_hn_counts)"
   ]
  },
  {
   "cell_type": "markdown",
   "metadata": {},
   "source": [
    "For `Ask HN`, it looks like most posts are made at 6pm and at 9pm. \n",
    "\n",
    "For `Show HN`, it looks like most posts are made at 1pm and 4pm. "
   ]
  },
  {
   "cell_type": "code",
   "execution_count": 48,
   "metadata": {},
   "outputs": [
    {
     "name": "stdout",
     "output_type": "stream",
     "text": [
      "Ask HN comments per hour.\n",
      "{'09': 251, '13': 1253, '10': 793, '14': 1416, '16': 1814, '23': 543, '12': 687, '17': 1146, '15': 4477, '21': 1745, '20': 1722, '02': 1381, '18': 1439, '03': 421, '05': 464, '19': 1188, '01': 683, '22': 479, '08': 492, '04': 337, '00': 447, '06': 397, '07': 267, '11': 641}\n",
      "Show HN comments per hour.\n",
      "{'14': 1156, '22': 570, '18': 962, '07': 299, '20': 612, '05': 58, '16': 1084, '19': 539, '15': 632, '03': 287, '17': 911, '06': 142, '02': 127, '13': 946, '08': 165, '21': 272, '04': 247, '11': 491, '12': 720, '23': 447, '09': 291, '01': 246, '10': 297, '00': 487}\n"
     ]
    }
   ],
   "source": [
    "print(\"Ask HN comments per hour.\")\n",
    "print(ask_hn_comments)\n",
    "print(\"Show HN comments per hour.\")\n",
    "print(show_hn_comments)"
   ]
  },
  {
   "cell_type": "markdown",
   "metadata": {},
   "source": [
    "Wow! For `Ask HN`, it looks like most comments are made at 3pm. \n",
    "\n",
    "For `Show HN`, it looks like most posts are made at 1pm and 2pm. "
   ]
  },
  {
   "cell_type": "markdown",
   "metadata": {},
   "source": [
    "Our output is quite ugly, and the dictionaries are not sorted, making them difficult to read. Let's try to clean up the output so that the numbers are sorted by time, and output one row at a time."
   ]
  },
  {
   "cell_type": "code",
   "execution_count": 53,
   "metadata": {},
   "outputs": [],
   "source": [
    "def nice_output(freq_table):\n",
    "    \"\"\"Take a frequency table, and output a clean, sorted print statement.\n",
    "\n",
    "    Keyword arguments:\n",
    "    freq_table -- A dictionary containing all times in a 24-hour period, as well as an associate value.\n",
    "\n",
    "    Output(s): None\n",
    "    \"\"\"\n",
    "    print_statement = \"\"\n",
    "    for hour in sorted(freq_table):\n",
    "        print_statement += f\"{hour}: {freq_table[hour]}\\n\"\n",
    "\n",
    "    print(print_statement)"
   ]
  },
  {
   "cell_type": "code",
   "execution_count": 54,
   "metadata": {},
   "outputs": [
    {
     "name": "stdout",
     "output_type": "stream",
     "text": [
      "00: 55\n",
      "01: 60\n",
      "02: 58\n",
      "03: 54\n",
      "04: 47\n",
      "05: 46\n",
      "06: 44\n",
      "07: 34\n",
      "08: 48\n",
      "09: 45\n",
      "10: 59\n",
      "11: 58\n",
      "12: 73\n",
      "13: 85\n",
      "14: 107\n",
      "15: 116\n",
      "16: 108\n",
      "17: 100\n",
      "18: 109\n",
      "19: 110\n",
      "20: 80\n",
      "21: 109\n",
      "22: 71\n",
      "23: 68\n",
      "\n"
     ]
    }
   ],
   "source": [
    "nice_output(ask_hn_counts)"
   ]
  },
  {
   "cell_type": "markdown",
   "metadata": {},
   "source": [
    "Fantastic! Now that we can sort our frequency tables and output them in a clean manner, let's next compute the _average_ number of comments, per post, per hour."
   ]
  },
  {
   "cell_type": "code",
   "execution_count": 80,
   "metadata": {},
   "outputs": [],
   "source": [
    "def compute_average(posts_per_hour, comments_per_hour):\n",
    "    \"\"\"Takes two frequency tables, outputs a single frequency table with the average of the two.\n",
    "\n",
    "    Keyword arguments:\n",
    "    posts_per_hour -- A frequency table (as a dictionary) containing hour: value pairs.\n",
    "    comments_per_hour -- A frequency table (as a dictionary) containing hour: value pairs.\n",
    "\n",
    "    Output(s):\n",
    "    avg_by_hour -- A list of lists with hours and values, sorted from most comments/post to least.\n",
    "    \"\"\"\n",
    "    \n",
    "    avg_by_hour = []\n",
    "\n",
    "    for hour in posts_per_hour:\n",
    "        comments = comments_per_hour[hour]\n",
    "        counts = posts_per_hour[hour]\n",
    "\n",
    "        avg_by_hour.append([comments/counts, hour])\n",
    "    \n",
    "    return sorted(avg_by_hour, reverse=True)"
   ]
  },
  {
   "cell_type": "code",
   "execution_count": 81,
   "metadata": {},
   "outputs": [],
   "source": [
    "ask_hn_avg = compute_average(ask_hn_counts, ask_hn_comments)\n",
    "show_hn_avg = compute_average(show_hn_counts, show_hn_comments)"
   ]
  },
  {
   "cell_type": "markdown",
   "metadata": {},
   "source": [
    "### Top 5 Hours to garner comments on `Ask HN` and `Show HN` posts"
   ]
  },
  {
   "cell_type": "code",
   "execution_count": 84,
   "metadata": {},
   "outputs": [
    {
     "name": "stdout",
     "output_type": "stream",
     "text": [
      "Ask HN posts.\n"
     ]
    },
    {
     "data": {
      "text/plain": [
       "[[38.5948275862069, '15'],\n",
       " [23.810344827586206, '02'],\n",
       " [21.525, '20'],\n",
       " [16.796296296296298, '16'],\n",
       " [16.009174311926607, '21']]"
      ]
     },
     "execution_count": 84,
     "metadata": {},
     "output_type": "execute_result"
    }
   ],
   "source": [
    "print(\"Ask HN posts.\")\n",
    "ask_hn_avg[:5]"
   ]
  },
  {
   "cell_type": "code",
   "execution_count": 85,
   "metadata": {},
   "outputs": [
    {
     "name": "stdout",
     "output_type": "stream",
     "text": [
      "Show HN posts.\n"
     ]
    },
    {
     "data": {
      "text/plain": [
       "[[15.770491803278688, '18'],\n",
       " [15.709677419354838, '00'],\n",
       " [13.44186046511628, '14'],\n",
       " [12.416666666666666, '23'],\n",
       " [12.391304347826088, '22']]"
      ]
     },
     "execution_count": 85,
     "metadata": {},
     "output_type": "execute_result"
    }
   ],
   "source": [
    "print(\"Show HN posts.\")\n",
    "show_hn_avg[:5]"
   ]
  },
  {
   "cell_type": "code",
   "execution_count": 99,
   "metadata": {},
   "outputs": [],
   "source": [
    "def beautiful_output(listed_lists):\n",
    "    \"\"\"Take a list of lists, and print beautiful text.\n",
    "\n",
    "    Keyword arguments:\n",
    "    listed_lists -- A list showing average comments/post for each hour of the day.\n",
    "\n",
    "    Output(s): None\n",
    "    \"\"\"\n",
    "\n",
    "    for row in listed_lists[:5]:\n",
    "        hour = int(row[1])\n",
    "        count = int(row[0])\n",
    "        print(f\"{hour}: {count} comments/post\")"
   ]
  },
  {
   "cell_type": "code",
   "execution_count": 100,
   "metadata": {},
   "outputs": [
    {
     "name": "stdout",
     "output_type": "stream",
     "text": [
      "Show HN posts.\n",
      "18: 15 comments/post\n",
      "0: 15 comments/post\n",
      "14: 13 comments/post\n",
      "23: 12 comments/post\n",
      "22: 12 comments/post\n"
     ]
    }
   ],
   "source": [
    "print(\"Show HN posts.\")\n",
    "beautiful_output(show_hn_avg)"
   ]
  },
  {
   "cell_type": "code",
   "execution_count": 101,
   "metadata": {},
   "outputs": [
    {
     "name": "stdout",
     "output_type": "stream",
     "text": [
      "Ask HN posts.\n",
      "15: 38 comments/post\n",
      "2: 23 comments/post\n",
      "20: 21 comments/post\n",
      "16: 16 comments/post\n",
      "21: 16 comments/post\n"
     ]
    }
   ],
   "source": [
    "print(\"Ask HN posts.\")\n",
    "beautiful_output(ask_hn_avg)"
   ]
  },
  {
   "cell_type": "markdown",
   "metadata": {},
   "source": [
    "### Plots"
   ]
  },
  {
   "cell_type": "code",
   "execution_count": 122,
   "metadata": {},
   "outputs": [],
   "source": [
    "ask_array = np.array(ask_hn_avg).astype(float)\n",
    "show_array = np.array(show_hn_avg).astype(float)"
   ]
  },
  {
   "cell_type": "code",
   "execution_count": 123,
   "metadata": {},
   "outputs": [
    {
     "data": {
      "text/plain": [
       "array([38.59482759, 23.81034483, 21.525     , 16.7962963 , 16.00917431])"
      ]
     },
     "execution_count": 123,
     "metadata": {},
     "output_type": "execute_result"
    }
   ],
   "source": [
    "ask_array[:5, 0]"
   ]
  },
  {
   "cell_type": "code",
   "execution_count": 134,
   "metadata": {},
   "outputs": [
    {
     "data": {
      "text/plain": [
       "Text(0, 0.5, 'Average No. of Comments per Post')"
      ]
     },
     "execution_count": 134,
     "metadata": {},
     "output_type": "execute_result"
    },
    {
     "data": {
      "image/png": "[encoded data removed]",
      "text/plain": [
       "<Figure size 432x288 with 1 Axes>"
      ]
     },
     "metadata": {
      "needs_background": "light"
     },
     "output_type": "display_data"
    }
   ],
   "source": [
    "sns.lineplot(data=ask_array, x=ask_array[:,1], y=ask_array[:,0]).set_title(\"Average No. of Comments per Post for Ask HN, by Hour\")\n",
    "plt.xlabel(\"Hour\")\n",
    "plt.ylabel(\"Average No. of Comments per Post\")"
   ]
  },
  {
   "cell_type": "code",
   "execution_count": 135,
   "metadata": {},
   "outputs": [
    {
     "data": {
      "text/plain": [
       "Text(0, 0.5, 'Average No. of Comments per Post')"
      ]
     },
     "execution_count": 135,
     "metadata": {},
     "output_type": "execute_result"
    },
    {
     "data": {
      "image/png": "[encoded data removed]",
      "text/plain": [
       "<Figure size 432x288 with 1 Axes>"
      ]
     },
     "metadata": {
      "needs_background": "light"
     },
     "output_type": "display_data"
    }
   ],
   "source": [
    "sns.lineplot(data=show_array, x=show_array[:,1], y=show_array[:,0]).set_title(\"Average No. of Comments per Post for Show HN, by Hour\")\n",
    "plt.xlabel(\"Hour\")\n",
    "plt.ylabel(\"Average No. of Comments per Post\")"
   ]
  }
 ],
 "metadata": {
  "kernelspec": {
   "display_name": "Python 3",
   "language": "python",
   "name": "python3"
  },
  "language_info": {
   "codemirror_mode": {
    "name": "ipython",
    "version": 3
   },
   "file_extension": ".py",
   "mimetype": "text/x-python",
   "name": "python",
   "nbconvert_exporter": "python",
   "pygments_lexer": "ipython3",
   "version": "3.8.8"
  }
 },
 "nbformat": 4,
 "nbformat_minor": 2
}
